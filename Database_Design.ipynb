{
 "cells": [
  {
   "cell_type": "markdown",
   "metadata": {},
   "source": [
    "# Data Modeling Process\n",
    "\n",
    "See below link for Database Design Diagram:<br>\n",
    "https://lucid.app/lucidchart/c0877aab-583d-4ad2-b3fa-7e206046f2e9/edit?viewport_loc=-1543%2C-1097%2C1895%2C1026%2C0_0&invitationId=inv_076c1c5e-fc11-4e17-b2c8-8270de55031f"
   ]
  },
  {
   "cell_type": "markdown",
   "metadata": {},
   "source": [
    "## What is Data Modeling and the Design Process?\n",
    "Data modeling is the process of analyzing data and creating a design\n",
    "\n",
    "### Two Types of Databases:\n",
    "1.\tRelational Database: common, used for updating\t\n",
    "2.\tData Warehouse: used for reporting, separate course\n",
    "\n",
    "### Data Model Types: \n",
    "1.\tConceptual: high level, shows relationships between objects, usually just names or concepts"
   ]
  },
  {
   "cell_type": "markdown",
   "metadata": {},
   "source": []
  }
 ],
 "metadata": {
  "language_info": {
   "name": "python"
  }
 },
 "nbformat": 4,
 "nbformat_minor": 2
}
